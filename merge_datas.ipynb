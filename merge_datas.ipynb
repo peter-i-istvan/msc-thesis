{
 "cells": [
  {
   "cell_type": "code",
   "execution_count": 24,
   "metadata": {},
   "outputs": [
    {
     "name": "stdout",
     "output_type": "stream",
     "text": [
      "/home/i/Documents/BME/dipterv1/dHCP\n"
     ]
    }
   ],
   "source": [
    "!pwd"
   ]
  },
  {
   "cell_type": "code",
   "execution_count": 20,
   "metadata": {},
   "outputs": [],
   "source": [
    "import os\n",
    "import numpy as np\n",
    "import pandas as pd\n",
    "import nibabel as nib\n",
    "from torch_geometric.data import Data"
   ]
  },
  {
   "cell_type": "code",
   "execution_count": 2,
   "metadata": {},
   "outputs": [],
   "source": [
    "SPLIT_ROOT = \"Dani-split\""
   ]
  },
  {
   "cell_type": "code",
   "execution_count": 13,
   "metadata": {},
   "outputs": [],
   "source": [
    "task = 'scan_age'\n",
    "train_ids = pd.read_csv(os.path.join(SPLIT_ROOT, task + '_train.txt'), header=None)\n",
    "val_ids = pd.read_csv(os.path.join(SPLIT_ROOT, task + '_val.txt'), header=None)\n",
    "test_ids = pd.read_csv(os.path.join(SPLIT_ROOT, task + '_test.txt'), header=None)"
   ]
  },
  {
   "cell_type": "markdown",
   "metadata": {},
   "source": [
    "Check the number of subject IDs where there are both kinds of data available"
   ]
  },
  {
   "cell_type": "code",
   "execution_count": 14,
   "metadata": {},
   "outputs": [
    {
     "data": {
      "text/plain": [
       "(423, 387, '91.49 %')"
      ]
     },
     "execution_count": 14,
     "metadata": {},
     "output_type": "execute_result"
    }
   ],
   "source": [
    "file_names = \"connectomes-csv/\" + train_ids[0].str.split('_').str.join(\"-\") + \"-nws.csv\"\n",
    "\n",
    "num_total = len(file_names)\n",
    "found = 0\n",
    "\n",
    "for fn in file_names:\n",
    "    if os.path.isfile(fn):\n",
    "        found += 1\n",
    "\n",
    "num_total, found, f\"{found/num_total*100:.2f} %\""
   ]
  },
  {
   "cell_type": "code",
   "execution_count": 10,
   "metadata": {},
   "outputs": [
    {
     "data": {
      "text/plain": [
       "(53, 52, '98.11 %')"
      ]
     },
     "execution_count": 10,
     "metadata": {},
     "output_type": "execute_result"
    }
   ],
   "source": [
    "file_names = \"connectomes-csv/\" + val_ids[0].str.split('_').str.join(\"-\") + \"-nws.csv\"\n",
    "\n",
    "num_total = len(file_names)\n",
    "found = 0\n",
    "\n",
    "for fn in file_names:\n",
    "    if os.path.isfile(fn):\n",
    "        found += 1\n",
    "\n",
    "num_total, found, f\"{found/num_total*100:.2f} %\""
   ]
  },
  {
   "cell_type": "code",
   "execution_count": 11,
   "metadata": {},
   "outputs": [
    {
     "data": {
      "text/plain": [
       "(54, 51, '94.44 %')"
      ]
     },
     "execution_count": 11,
     "metadata": {},
     "output_type": "execute_result"
    }
   ],
   "source": [
    "file_names = \"connectomes-csv/\" + test_ids[0].str.split('_').str.join(\"-\") + \"-nws.csv\"\n",
    "\n",
    "num_total = len(file_names)\n",
    "found = 0\n",
    "\n",
    "for fn in file_names:\n",
    "    if os.path.isfile(fn):\n",
    "        found += 1\n",
    "\n",
    "num_total, found, f\"{found/num_total*100:.2f} %\""
   ]
  },
  {
   "cell_type": "code",
   "execution_count": null,
   "metadata": {},
   "outputs": [],
   "source": [
    "def load_mesh(surface_path: str, feature_path: str) -> Data:\n",
    "    surface = nib.load(surface_path)\n",
    "    pos, face = surface.agg_data()\n",
    "    feature = nib.load(feature_path)\n",
    "    x = np.stack(feature.agg_data(), axis=1)\n",
    "    y = ...\n",
    "    data = Data()\n",
    "    data.x = x\n",
    "    data.y = y\n",
    "    data.pos = pos\n",
    "    data.face = face\n",
    "\n",
    "    return data\n"
   ]
  },
  {
   "cell_type": "code",
   "execution_count": 17,
   "metadata": {},
   "outputs": [
    {
     "name": "stdout",
     "output_type": "stream",
     "text": [
      "386\n"
     ]
    }
   ],
   "source": [
    "# Iterate over both the connectome matrix and surface mesh data and read jointly\n",
    "csv_file_names = \"connectomes-csv/\" + train_ids[0].str.split('_').str.join(\"-\") + \"-nws.csv\"\n",
    "mesh_file_names = \"dHCP-Dani/surfaces/\" + train_ids[0] + \"_left.wm.surf.gii\"\n",
    "\n",
    "for csv_fn, mesh_fn in zip(csv_file_names, mesh_file_names):\n",
    "    # os.path.join(path, 'features', _id + '_left.shape.gii')\n",
    "    if os.path.isfile(csv_fn) and os.path.isfile(mesh_fn):\n",
    "        ...        \n"
   ]
  },
  {
   "cell_type": "code",
   "execution_count": null,
   "metadata": {},
   "outputs": [],
   "source": []
  }
 ],
 "metadata": {
  "kernelspec": {
   "display_name": "venv",
   "language": "python",
   "name": "python3"
  },
  "language_info": {
   "codemirror_mode": {
    "name": "ipython",
    "version": 3
   },
   "file_extension": ".py",
   "mimetype": "text/x-python",
   "name": "python",
   "nbconvert_exporter": "python",
   "pygments_lexer": "ipython3",
   "version": "3.11.8"
  }
 },
 "nbformat": 4,
 "nbformat_minor": 2
}
